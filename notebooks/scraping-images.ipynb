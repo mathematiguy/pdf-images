{
 "cells": [
  {
   "cell_type": "markdown",
   "metadata": {},
   "source": [
    "# Scraping images from PDFs"
   ]
  },
  {
   "cell_type": "markdown",
   "metadata": {},
   "source": [
    "Note to self: Don't use regular `PyPDF2`, use the following:\n",
    "\n",
    "`pip install --upgrade https://github.com/sylvainpelissier/PyPDF2/archive/master.zip`\n",
    "\n",
    "`pip install pillow`"
   ]
  },
  {
   "cell_type": "code",
   "execution_count": 2,
   "metadata": {},
   "outputs": [],
   "source": [
    "import os\n",
    "import PyPDF2\n",
    "from PIL import Image"
   ]
  },
  {
   "cell_type": "code",
   "execution_count": 5,
   "metadata": {},
   "outputs": [],
   "source": [
    "pdf_files = [f for f in os.listdir(\"pdfs\") if f.endswith(\"pdf\")]\n",
    "\n",
    "for pdf in pdf_files:\n",
    "    pdf_path = os.path.join(\"pdfs\", pdf)\n",
    "    file = PyPDF2.PdfFileReader(open(pdf_path, \"rb\"))\n",
    "    page = file.getPage(0)\n",
    "\n",
    "    try:\n",
    "        xObject = page['/Resources']['/XObject'].getObject()\n",
    "    except KeyError:\n",
    "        print(\"KeyError at:\", xObject[obj]['/Name'], \"(page %d)\" % page_num)\n",
    "    \n",
    "    image_folder = os.path.join(\"images\", pdf.replace(\".pdf\", \"\"))\n",
    "    if not os.path.exists(image_folder):\n",
    "        os.makedirs(image_folder)\n",
    "\n",
    "    for obj in xObject:\n",
    "        if xObject[obj]['/Subtype'] == '/Image':\n",
    "            name = xObject[obj]['/Name'].replace(\"/\", \"\")\n",
    "            size = (xObject[obj]['/Width'], xObject[obj]['/Height'])\n",
    "            filepath = os.path.join(image_folder, name)\n",
    "            \n",
    "            try:\n",
    "                data = xObject[obj].getData()\n",
    "            except NotImplementedError:\n",
    "                print(\"NotImplementedError at:\", xObject[obj]['/Name'], \"for filter type\", \n",
    "                      xObject[obj]['/Filter'], \"(page %d)\" % page_num)\n",
    "                continue\n",
    "            \n",
    "            if xObject[obj]['/ColorSpace'] == '/DeviceRGB':\n",
    "                mode = \"RGB\"\n",
    "            else:\n",
    "                mode = \"P\"\n",
    "\n",
    "            if xObject[obj]['/Filter'] == '/FlateDecode':\n",
    "                img = Image.frombytes(mode, size, data)\n",
    "                img.save(filepath + \".png\")\n",
    "            elif xObject[obj]['/Filter'] == '/DCTDecode':\n",
    "                img = open(filepath + \".jpg\", \"wb\")\n",
    "                img.write(data)\n",
    "                img.close()\n",
    "            elif xObject[obj]['/Filter'] == '/JPXDecode':\n",
    "                img = open(filepath + \".jp2\", \"wb\")\n",
    "                img.write(data)\n",
    "                img.close()\n",
    "            else:\n",
    "                print(\"No decoder for image %s\" % name)"
   ]
  },
  {
   "cell_type": "code",
   "execution_count": null,
   "metadata": {},
   "outputs": [],
   "source": []
  },
  {
   "cell_type": "code",
   "execution_count": null,
   "metadata": {},
   "outputs": [],
   "source": []
  },
  {
   "cell_type": "code",
   "execution_count": null,
   "metadata": {},
   "outputs": [],
   "source": []
  },
  {
   "cell_type": "code",
   "execution_count": null,
   "metadata": {},
   "outputs": [],
   "source": []
  },
  {
   "cell_type": "code",
   "execution_count": null,
   "metadata": {},
   "outputs": [],
   "source": []
  },
  {
   "cell_type": "code",
   "execution_count": null,
   "metadata": {},
   "outputs": [],
   "source": []
  },
  {
   "cell_type": "code",
   "execution_count": null,
   "metadata": {},
   "outputs": [],
   "source": []
  },
  {
   "cell_type": "code",
   "execution_count": null,
   "metadata": {},
   "outputs": [],
   "source": []
  }
 ],
 "metadata": {
  "kernelspec": {
   "display_name": "Python 3",
   "language": "python",
   "name": "python3"
  },
  "language_info": {
   "codemirror_mode": {
    "name": "ipython",
    "version": 3
   },
   "file_extension": ".py",
   "mimetype": "text/x-python",
   "name": "python",
   "nbconvert_exporter": "python",
   "pygments_lexer": "ipython3",
   "version": "3.6.4"
  }
 },
 "nbformat": 4,
 "nbformat_minor": 2
}
